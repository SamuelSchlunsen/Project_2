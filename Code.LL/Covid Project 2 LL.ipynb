{
 "cells": [
  {
   "cell_type": "code",
   "execution_count": 3,
   "id": "c419b4d7-7e33-41f1-b59d-0afc238fd330",
   "metadata": {},
   "outputs": [],
   "source": [
    "#Dependencies\n",
    "%matplotlib inline\n",
    "import os\n",
    "import csv\n",
    "import pandas as pd\n",
    "import psycopg2 as ps2\n",
    "import matplotlib.pyplot as plt\n",
    "import datetime as date\n",
    "from sqlalchemy import create_engine, inspect, func\n",
    "from sqlalchemy.orm import session\n",
    "from config import password"
   ]
  },
  {
   "cell_type": "code",
   "execution_count": 16,
   "id": "a462562a-9dc5-40f4-8e24-1292a96b56aa",
   "metadata": {},
   "outputs": [
    {
     "data": {
      "text/html": [
       "<div>\n",
       "<style scoped>\n",
       "    .dataframe tbody tr th:only-of-type {\n",
       "        vertical-align: middle;\n",
       "    }\n",
       "\n",
       "    .dataframe tbody tr th {\n",
       "        vertical-align: top;\n",
       "    }\n",
       "\n",
       "    .dataframe thead th {\n",
       "        text-align: right;\n",
       "    }\n",
       "</style>\n",
       "<table border=\"1\" class=\"dataframe\">\n",
       "  <thead>\n",
       "    <tr style=\"text-align: right;\">\n",
       "      <th></th>\n",
       "      <th>state</th>\n",
       "      <th>date</th>\n",
       "      <th>total_population</th>\n",
       "      <th>cumulative_cases</th>\n",
       "      <th>cumulative_deaths</th>\n",
       "    </tr>\n",
       "  </thead>\n",
       "  <tbody>\n",
       "    <tr>\n",
       "      <th>0</th>\n",
       "      <td>Alabama</td>\n",
       "      <td>2020-01-22</td>\n",
       "      <td>4887871.0</td>\n",
       "      <td>0</td>\n",
       "      <td>0</td>\n",
       "    </tr>\n",
       "    <tr>\n",
       "      <th>1</th>\n",
       "      <td>Alabama</td>\n",
       "      <td>2020-01-23</td>\n",
       "      <td>4887871.0</td>\n",
       "      <td>0</td>\n",
       "      <td>0</td>\n",
       "    </tr>\n",
       "    <tr>\n",
       "      <th>2</th>\n",
       "      <td>Alabama</td>\n",
       "      <td>2020-01-24</td>\n",
       "      <td>4887871.0</td>\n",
       "      <td>0</td>\n",
       "      <td>0</td>\n",
       "    </tr>\n",
       "    <tr>\n",
       "      <th>3</th>\n",
       "      <td>Alabama</td>\n",
       "      <td>2020-01-25</td>\n",
       "      <td>4887871.0</td>\n",
       "      <td>0</td>\n",
       "      <td>0</td>\n",
       "    </tr>\n",
       "    <tr>\n",
       "      <th>4</th>\n",
       "      <td>Alabama</td>\n",
       "      <td>2020-01-26</td>\n",
       "      <td>4887871.0</td>\n",
       "      <td>0</td>\n",
       "      <td>0</td>\n",
       "    </tr>\n",
       "  </tbody>\n",
       "</table>\n",
       "</div>"
      ],
      "text/plain": [
       "     state       date  total_population  cumulative_cases  cumulative_deaths\n",
       "0  Alabama 2020-01-22         4887871.0                 0                  0\n",
       "1  Alabama 2020-01-23         4887871.0                 0                  0\n",
       "2  Alabama 2020-01-24         4887871.0                 0                  0\n",
       "3  Alabama 2020-01-25         4887871.0                 0                  0\n",
       "4  Alabama 2020-01-26         4887871.0                 0                  0"
      ]
     },
     "execution_count": 16,
     "metadata": {},
     "output_type": "execute_result"
    }
   ],
   "source": [
    "#Read CSV files\n",
    "file = \"Resources.LL/3_cases_and_deaths_by_state_timeseries.csv\"\n",
    "case_state = pd.read_csv(file, parse_dates = [\"date\"], usecols= [\"state\", \"date\", \"total_population\", \"cumulative_cases\", \"cumulative_deaths\"])\n",
    "new_case_state= case_state.dropna(how= \"any\")\n",
    "new_case_state.head()"
   ]
  },
  {
   "cell_type": "code",
   "execution_count": 11,
   "id": "fa35111b-2fa0-4166-b397-e6b732266999",
   "metadata": {},
   "outputs": [
    {
     "data": {
      "text/plain": [
       "state                        object\n",
       "date                 datetime64[ns]\n",
       "total_population            float64\n",
       "cumulative_cases              int64\n",
       "cumulative_deaths             int64\n",
       "dtype: object"
      ]
     },
     "execution_count": 11,
     "metadata": {},
     "output_type": "execute_result"
    }
   ],
   "source": [
    "case_state.dtypes"
   ]
  },
  {
   "cell_type": "code",
   "execution_count": 12,
   "id": "a27d7e2c-0025-4c27-a8a2-8966f7e5ab33",
   "metadata": {},
   "outputs": [],
   "source": [
    "#Create \n",
    "rds_connection_string = \"postgres:Cucumber#88@localhost:5432/Covid_John_Hopkins\"\n",
    "engine = create_engine(f\"postgresql://{rds_connection_string}\")"
   ]
  },
  {
   "cell_type": "code",
   "execution_count": 14,
   "id": "0e0ddb8e-db6b-48d9-8f28-6ee94980df92",
   "metadata": {},
   "outputs": [
    {
     "name": "stderr",
     "output_type": "stream",
     "text": [
      "C:\\Users\\twozi\\AppData\\Local\\Temp/ipykernel_10900/4162273999.py:1: SADeprecationWarning: The Engine.table_names() method is deprecated and will be removed in a future release.  Please refer to Inspector.get_table_names(). (deprecated since: 1.4)\n",
      "  engine.table_names()\n"
     ]
    },
    {
     "data": {
      "text/plain": [
       "['case_state']"
      ]
     },
     "execution_count": 14,
     "metadata": {},
     "output_type": "execute_result"
    }
   ],
   "source": [
    "engine.table_names()"
   ]
  },
  {
   "cell_type": "code",
   "execution_count": 17,
   "id": "7528782b-b9b0-4d62-8ade-207225f57196",
   "metadata": {},
   "outputs": [],
   "source": [
    "new_case_state.to_sql(name = \"case_state\", con= engine, if_exists = \"append\", index = False)"
   ]
  },
  {
   "cell_type": "code",
   "execution_count": 19,
   "id": "8b27a301-130b-4dc3-91c7-cb42696504bd",
   "metadata": {},
   "outputs": [
    {
     "data": {
      "text/html": [
       "<div>\n",
       "<style scoped>\n",
       "    .dataframe tbody tr th:only-of-type {\n",
       "        vertical-align: middle;\n",
       "    }\n",
       "\n",
       "    .dataframe tbody tr th {\n",
       "        vertical-align: top;\n",
       "    }\n",
       "\n",
       "    .dataframe thead th {\n",
       "        text-align: right;\n",
       "    }\n",
       "</style>\n",
       "<table border=\"1\" class=\"dataframe\">\n",
       "  <thead>\n",
       "    <tr style=\"text-align: right;\">\n",
       "      <th></th>\n",
       "      <th>state</th>\n",
       "      <th>date</th>\n",
       "      <th>total_population</th>\n",
       "      <th>cumulative_cases</th>\n",
       "      <th>cumulative_deaths</th>\n",
       "    </tr>\n",
       "  </thead>\n",
       "  <tbody>\n",
       "    <tr>\n",
       "      <th>0</th>\n",
       "      <td>Alabama</td>\n",
       "      <td>2020-01-22</td>\n",
       "      <td>4887871.0</td>\n",
       "      <td>0</td>\n",
       "      <td>0</td>\n",
       "    </tr>\n",
       "    <tr>\n",
       "      <th>1</th>\n",
       "      <td>Alabama</td>\n",
       "      <td>2020-01-23</td>\n",
       "      <td>4887871.0</td>\n",
       "      <td>0</td>\n",
       "      <td>0</td>\n",
       "    </tr>\n",
       "    <tr>\n",
       "      <th>2</th>\n",
       "      <td>Alabama</td>\n",
       "      <td>2020-01-24</td>\n",
       "      <td>4887871.0</td>\n",
       "      <td>0</td>\n",
       "      <td>0</td>\n",
       "    </tr>\n",
       "    <tr>\n",
       "      <th>3</th>\n",
       "      <td>Alabama</td>\n",
       "      <td>2020-01-25</td>\n",
       "      <td>4887871.0</td>\n",
       "      <td>0</td>\n",
       "      <td>0</td>\n",
       "    </tr>\n",
       "    <tr>\n",
       "      <th>4</th>\n",
       "      <td>Alabama</td>\n",
       "      <td>2020-01-26</td>\n",
       "      <td>4887871.0</td>\n",
       "      <td>0</td>\n",
       "      <td>0</td>\n",
       "    </tr>\n",
       "  </tbody>\n",
       "</table>\n",
       "</div>"
      ],
      "text/plain": [
       "     state        date total_population cumulative_cases cumulative_deaths\n",
       "0  Alabama  2020-01-22        4887871.0                0                 0\n",
       "1  Alabama  2020-01-23        4887871.0                0                 0\n",
       "2  Alabama  2020-01-24        4887871.0                0                 0\n",
       "3  Alabama  2020-01-25        4887871.0                0                 0\n",
       "4  Alabama  2020-01-26        4887871.0                0                 0"
      ]
     },
     "execution_count": 19,
     "metadata": {},
     "output_type": "execute_result"
    }
   ],
   "source": [
    "pd.read_sql_query(\"select * from case_state\", con = engine).head()"
   ]
  },
  {
   "cell_type": "code",
   "execution_count": null,
   "id": "ab6162de-e79e-436a-bc01-15505812dba1",
   "metadata": {},
   "outputs": [],
   "source": []
  }
 ],
 "metadata": {
  "kernelspec": {
   "display_name": "Python 3 (ipykernel)",
   "language": "python",
   "name": "python3"
  },
  "language_info": {
   "codemirror_mode": {
    "name": "ipython",
    "version": 3
   },
   "file_extension": ".py",
   "mimetype": "text/x-python",
   "name": "python",
   "nbconvert_exporter": "python",
   "pygments_lexer": "ipython3",
   "version": "3.9.7"
  }
 },
 "nbformat": 4,
 "nbformat_minor": 5
}
